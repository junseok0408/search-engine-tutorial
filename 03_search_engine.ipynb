{
 "cells": [
  {
   "cell_type": "markdown",
   "metadata": {},
   "source": [
    "# Simple Search Engine\n",
    "Elasticsearch와 mysql을 결합한 검색엔진을 만들어보겠습니다.\n",
    "____"
   ]
  },
  {
   "cell_type": "code",
   "execution_count": 1,
   "metadata": {},
   "outputs": [],
   "source": [
    "import pandas as pd\n",
    "df = pd.read_csv(\"movie_doc.csv\",sep=\"\\t\")"
   ]
  },
  {
   "cell_type": "code",
   "execution_count": 2,
   "metadata": {},
   "outputs": [
    {
     "data": {
      "text/html": [
       "<div>\n",
       "<style scoped>\n",
       "    .dataframe tbody tr th:only-of-type {\n",
       "        vertical-align: middle;\n",
       "    }\n",
       "\n",
       "    .dataframe tbody tr th {\n",
       "        vertical-align: top;\n",
       "    }\n",
       "\n",
       "    .dataframe thead th {\n",
       "        text-align: right;\n",
       "    }\n",
       "</style>\n",
       "<table border=\"1\" class=\"dataframe\">\n",
       "  <thead>\n",
       "    <tr style=\"text-align: right;\">\n",
       "      <th></th>\n",
       "      <th>id</th>\n",
       "      <th>title</th>\n",
       "      <th>story</th>\n",
       "      <th>gender</th>\n",
       "      <th>link</th>\n",
       "      <th>image</th>\n",
       "    </tr>\n",
       "  </thead>\n",
       "  <tbody>\n",
       "    <tr>\n",
       "      <th>0</th>\n",
       "      <td>0</td>\n",
       "      <td>인비저블 게스트</td>\n",
       "      <td>의문의 습격으로 살해 당한 ‘로라’ ‘아드리안’은 연인의 죽음에 절망하고, 범인은 ...</td>\n",
       "      <td>N</td>\n",
       "      <td>https://movie.naver.com/movie/bi/mi/basic.nhn?...</td>\n",
       "      <td>https://movie-phinf.pstatic.net/20170828_179/1...</td>\n",
       "    </tr>\n",
       "    <tr>\n",
       "      <th>1</th>\n",
       "      <td>1</td>\n",
       "      <td>나, 다니엘 블레이크</td>\n",
       "      <td>평생을 성실하게 목수로 살아가던 다니엘은 지병인 심장병이 악화되어 일을 계속 해나갈...</td>\n",
       "      <td>F</td>\n",
       "      <td>https://movie.naver.com/movie/bi/mi/basic.nhn?...</td>\n",
       "      <td>https://movie-phinf.pstatic.net/20161117_246/1...</td>\n",
       "    </tr>\n",
       "    <tr>\n",
       "      <th>2</th>\n",
       "      <td>2</td>\n",
       "      <td>국가부도의 날</td>\n",
       "      <td>1997년, 대한민국 최고의 경제 호황을 믿어 의심치 않았던 그때, 곧 엄청난 경제...</td>\n",
       "      <td>M</td>\n",
       "      <td>https://movie.naver.com/movie/bi/mi/basic.nhn?...</td>\n",
       "      <td>https://movie-phinf.pstatic.net/20181105_232/1...</td>\n",
       "    </tr>\n",
       "    <tr>\n",
       "      <th>3</th>\n",
       "      <td>3</td>\n",
       "      <td>당갈</td>\n",
       "      <td>전직 레슬링 선수였던 ‘마하비르 싱 포갓(아미르 칸)’은 아버지의 반대로 금메달의 ...</td>\n",
       "      <td>F</td>\n",
       "      <td>https://movie.naver.com/movie/bi/mi/basic.nhn?...</td>\n",
       "      <td>https://movie-phinf.pstatic.net/20180329_2/152...</td>\n",
       "    </tr>\n",
       "    <tr>\n",
       "      <th>4</th>\n",
       "      <td>4</td>\n",
       "      <td>스파이더맨: 파 프롬 홈</td>\n",
       "      <td>‘엔드게임’ 이후 변화된 세상, 스파이더맨 ‘피터 파커’는 학교 친구들과 유럽 여행...</td>\n",
       "      <td>M</td>\n",
       "      <td>https://movie.naver.com/movie/bi/mi/basic.nhn?...</td>\n",
       "      <td>https://movie-phinf.pstatic.net/20190527_181/1...</td>\n",
       "    </tr>\n",
       "  </tbody>\n",
       "</table>\n",
       "</div>"
      ],
      "text/plain": [
       "   id          title                                              story  \\\n",
       "0   0       인비저블 게스트  의문의 습격으로 살해 당한 ‘로라’ ‘아드리안’은 연인의 죽음에 절망하고, 범인은 ...   \n",
       "1   1    나, 다니엘 블레이크  평생을 성실하게 목수로 살아가던 다니엘은 지병인 심장병이 악화되어 일을 계속 해나갈...   \n",
       "2   2        국가부도의 날  1997년, 대한민국 최고의 경제 호황을 믿어 의심치 않았던 그때, 곧 엄청난 경제...   \n",
       "3   3             당갈  전직 레슬링 선수였던 ‘마하비르 싱 포갓(아미르 칸)’은 아버지의 반대로 금메달의 ...   \n",
       "4   4  스파이더맨: 파 프롬 홈  ‘엔드게임’ 이후 변화된 세상, 스파이더맨 ‘피터 파커’는 학교 친구들과 유럽 여행...   \n",
       "\n",
       "  gender                                               link  \\\n",
       "0      N  https://movie.naver.com/movie/bi/mi/basic.nhn?...   \n",
       "1      F  https://movie.naver.com/movie/bi/mi/basic.nhn?...   \n",
       "2      M  https://movie.naver.com/movie/bi/mi/basic.nhn?...   \n",
       "3      F  https://movie.naver.com/movie/bi/mi/basic.nhn?...   \n",
       "4      M  https://movie.naver.com/movie/bi/mi/basic.nhn?...   \n",
       "\n",
       "                                               image  \n",
       "0  https://movie-phinf.pstatic.net/20170828_179/1...  \n",
       "1  https://movie-phinf.pstatic.net/20161117_246/1...  \n",
       "2  https://movie-phinf.pstatic.net/20181105_232/1...  \n",
       "3  https://movie-phinf.pstatic.net/20180329_2/152...  \n",
       "4  https://movie-phinf.pstatic.net/20190527_181/1...  "
      ]
     },
     "execution_count": 2,
     "metadata": {},
     "output_type": "execute_result"
    }
   ],
   "source": [
    "df.head()"
   ]
  },
  {
   "cell_type": "markdown",
   "metadata": {},
   "source": [
    "## 2. MySQL에 데이터 적재"
   ]
  },
  {
   "cell_type": "code",
   "execution_count": 3,
   "metadata": {},
   "outputs": [],
   "source": [
    "import mysql.connector\n",
    "\n",
    "\n",
    "HOST = \"localhost\"\n",
    "USER = \"root\"\n",
    "PASSWORD = \"123456789\"\n",
    "mydb = mysql.connector.connect(\n",
    "  host=HOST,\n",
    "  user=USER,\n",
    "  password=PASSWORD,\n",
    "  database=\"movie_db\"\n",
    ")\n",
    "\n",
    "mycursor = mydb.cursor()\n"
   ]
  },
  {
   "cell_type": "code",
   "execution_count": 5,
   "metadata": {},
   "outputs": [
    {
     "name": "stdout",
     "output_type": "stream",
     "text": [
      "{'id': '0', 'story': '의문의 습격으로 살해 당한 ‘로라’ ‘아드리안’은 연인의 죽음에 절망하고, 범인은 흔적도 없이 사라졌다. 유력한 용의자로 누명을 쓴 ‘아드리안’은 승률 100%의 변호사 ‘버지니아’를 선임한다. 그리고 자신의 무죄를 입증하기 위해 고군분투하던 중 과거 그와 ‘로라’가 은폐한 교통사고와 숨겨진 연관성을 찾게 되는데… 남은 시간은 단 3시간, 사건을 재구성해 무죄를 입증해야 한다!', 'title': '인비저블 게스트', 'link': 'https://movie.naver.com/movie/bi/mi/basic.nhn?code=159516', 'image': 'https://movie-phinf.pstatic.net/20170828_179/1503887362732snsIK_JPEG/movie_image.jpg?type=f67'}\n"
     ]
    }
   ],
   "source": [
    "sql = \"SELECT * FROM movie\"\n",
    "mycursor = mydb.cursor(dictionary=True)\n",
    "mycursor.execute(sql)\n",
    "\n",
    "\n",
    "myresult = mycursor.fetchall()\n",
    "for x in myresult:\n",
    "    print(x)\n",
    "    break"
   ]
  },
  {
   "cell_type": "markdown",
   "metadata": {},
   "source": [
    "## 3. ElasticSearch에 데이터 인덱싱"
   ]
  },
  {
   "cell_type": "code",
   "execution_count": 6,
   "metadata": {},
   "outputs": [],
   "source": [
    "from elasticsearch import Elasticsearch, helpers\n"
   ]
  },
  {
   "cell_type": "code",
   "execution_count": 7,
   "metadata": {},
   "outputs": [],
   "source": [
    "import pprint  \n",
    "INDEX_NAME = \"movie_index\"\n",
    "\n",
    "\n",
    "INDEX_SETTINGS = {\n",
    "  \"settings\" : {\n",
    "    \"index\":{\n",
    "      \"analysis\":{\n",
    "        \"analyzer\":{\n",
    "          \"korean\":{\n",
    "            \"type\":\"custom\",\n",
    "            \"tokenizer\":\"nori_tokenizer\"\n",
    "          }\n",
    "        }\n",
    "      }\n",
    "    }\n",
    "  },\n",
    "  \"mappings\": {\n",
    "\n",
    "      \"properties\" : {\n",
    "        \"story\" : {\n",
    "          \"type\" : \"text\",\n",
    "          \"analyzer\": \"korean\"\n",
    "        },\n",
    "        \"title\" : {\n",
    "          \"type\" : \"text\",\n",
    "          \"analyzer\": \"korean\"\n",
    "        }\n",
    "      }\n",
    "\n",
    "  }\n",
    "}\n"
   ]
  },
  {
   "cell_type": "code",
   "execution_count": 8,
   "metadata": {},
   "outputs": [],
   "source": [
    "\n",
    "\n",
    "try:\n",
    "    es.transport.close()\n",
    "except:\n",
    "    pass\n",
    "es = Elasticsearch()\n",
    "\n"
   ]
  },
  {
   "cell_type": "code",
   "execution_count": 9,
   "metadata": {},
   "outputs": [
    {
     "data": {
      "text/plain": [
       "{'acknowledged': True, 'shards_acknowledged': True, 'index': 'movie_index'}"
      ]
     },
     "execution_count": 9,
     "metadata": {},
     "output_type": "execute_result"
    }
   ],
   "source": [
    "if es.indices.exists(INDEX_NAME):\n",
    "    es.indices.delete(index=INDEX_NAME)\n",
    "es.indices.create(index=INDEX_NAME, body=INDEX_SETTINGS)"
   ]
  },
  {
   "cell_type": "code",
   "execution_count": 10,
   "metadata": {},
   "outputs": [
    {
     "data": {
      "text/plain": [
       "[{'_index': 'movie_index',\n",
       "  '_id': '0',\n",
       "  '_source': {'title': '인비저블 게스트',\n",
       "   'story': '의문의 습격으로 살해 당한 ‘로라’ ‘아드리안’은 연인의 죽음에 절망하고, 범인은 흔적도 없이 사라졌다. 유력한 용의자로 누명을 쓴 ‘아드리안’은 승률 100%의 변호사 ‘버지니아’를 선임한다. 그리고 자신의 무죄를 입증하기 위해 고군분투하던 중 과거 그와 ‘로라’가 은폐한 교통사고와 숨겨진 연관성을 찾게 되는데… 남은 시간은 단 3시간, 사건을 재구성해 무죄를 입증해야 한다!'}},\n",
       " {'_index': 'movie_index',\n",
       "  '_id': '1',\n",
       "  '_source': {'title': '나, 다니엘 블레이크',\n",
       "   'story': '평생을 성실하게 목수로 살아가던 다니엘은 지병인 심장병이 악화되어 일을 계속 해나갈 수 없는 상황이 된다. 다니엘은 실업급여를 받기 위해 찾아간 관공서에서 복잡하고 관료적인 절차 때문에 번번히 좌절한다. 그러던 어느 날 다니엘은 두 아이와 함께 런던에서 이주한 싱글맘 케이티를 만나 도움을 주게되고, 서로를 의지하게 되는데...'}},\n",
       " {'_index': 'movie_index',\n",
       "  '_id': '2',\n",
       "  '_source': {'title': '국가부도의 날',\n",
       "   'story': '1997년, 대한민국 최고의 경제 호황을 믿어 의심치 않았던 그때, 곧 엄청난 경제 위기가 닥칠 것을 예견한 한국은행 통화정책팀장 ‘한시현’(김혜수)은 이 사실을 보고하고, 정부는 뒤늦게 국가부도 사태를 막기 위한 비공개 대책팀을 꾸린다. 한편, 곳곳에서 감지되는 위기의 시그널을 포착하고 과감히 사표를 던진 금융맨 ‘윤정학’(유아인)은 국가부도의 위기에 투자하는 역베팅을 결심, 투자자들을 모으기 시작한다. 이런 상황을 알 리 없는 작은 공장의 사장이자 평범한 가장 ‘갑수’(허준호)는 대형 백화점과의 어음 거래 계약서에 도장을 찍고 소박한 행복을 꿈꾼다. 국가부도까지 남은 시간 단 일주일. 대책팀 내부에서 위기대응 방식을 두고 시현과 ‘재정국 차관’(조우진)이 강하게 대립하는 가운데, 시현의 반대에도 불구하고 ‘IMF 총재’(뱅상 카셀)가 협상을 위해 비밀리에 입국하는데… 위기를 막으려는 사람과 위기에 베팅하는 사람, 그리고 회사와 가족을 지키려는 평범한 사람, 1997년, 서로 다른 선택을 했던 사람들의 이야기가 시작된다!'}},\n",
       " {'_index': 'movie_index',\n",
       "  '_id': '3',\n",
       "  '_source': {'title': '당갈',\n",
       "   'story': '전직 레슬링 선수였던 ‘마하비르 싱 포갓(아미르 칸)’은 아버지의 반대로 금메달의 꿈을 이루지 못한 채 레슬링을 포기한다. 아들을 통해 꿈을 이루겠다는 생각은 내리 딸만 넷이 태어나면서 좌절된다. 그러던 어느 날, 두 딸이 또래 남자아이들을 신나게 때린 모습에서 잠재력을 발견하고 레슬링 특훈에 돌입한다. 사람들의 따가운 시선과 조롱에도 불구하고 첫째 기타(파티마 사나 셰이크)와 둘째 바비타(산야 말호트라)는 아버지의 훈련 속에 재능을 발휘, 승승장구 승리를 거두며 국가대표 레슬러로까지 성장해 마침내 국제대회에 출전하는데...'}},\n",
       " {'_index': 'movie_index',\n",
       "  '_id': '4',\n",
       "  '_source': {'title': '스파이더맨: 파 프롬 홈',\n",
       "   'story': '‘엔드게임’ 이후 변화된 세상, 스파이더맨 ‘피터 파커’는 학교 친구들과 유럽 여행을 떠나게 된다. 그런 그의 앞에 ‘닉 퓨리’가 등장해 도움을 요청하고 정체불명의 조력자 ‘미스테리오’까지 합류하게 되면서 전 세계를 위협하는 새로운 빌런 ‘엘리멘탈 크리쳐스’와 맞서야만 하는 상황에 놓이게 되는데…'}},\n",
       " {'_index': 'movie_index',\n",
       "  '_id': '5',\n",
       "  '_source': {'title': '뚜르: 내 생애 최고의 49일',\n",
       "   'story': '스물여섯 윤혁은 희귀암 말기 판정을 받지만 운명처럼 찾아온 자전거로 새로운 희망을 꿈꾼다. 생애 최대 좌절의 순간 세계 최고의 자전거 대회 ‘뚜르드프랑스’ 완주를 꿈꾸는 윤혁. 항암치료를 중단하고 그를 위해 모인 9인의 드림팀과 함께 우여곡절 끝에 드디어 프랑스에 입성한다. 하지만 첫 라이딩에서 메카닉은 팔이 부러지고, 팀닥터는 불편한 숙소에 불만이 폭발한다. 현지 코디네이터는 적은 예산과 팀원들의 불신으로 좌괴감에 빠지고, 라이딩 파트너는 체력 고갈로 바람막이는커녕 점점 쉬는 날이 많아진다. 좌충우돌 속에서도 첫번째 고비인 피레네 산맥을 하루만에 넘은 윤혁! 드림팀 멤버들은 다시 심기일전 힘을 모으기로 하는데… 싸우고 화해하고 울고 웃으며 서로의 마음을 하나로 모아가는 드림팀과 윤혁! 한국인 최초 ‘뚜르드프랑스’ 완주의 49일, 3,500km의 뜨거운 도전이 시작된다!'}},\n",
       " {'_index': 'movie_index',\n",
       "  '_id': '6',\n",
       "  '_source': {'title': '곰돌이 푸 다시 만나 행복해',\n",
       "   'story': '“어른이 된 나 인생의 쉼표가 필요한 순간, 찾아온 나의 친구들 다시 만나 행복해” 어른이 된 나 로빈(이완 맥그리거)은 가족도 일도 모두 완벽해 보이지만, 한편 지쳐가는 일상 속에 서있다. 어느 날, 눈 앞에 가장 행복한 시간을 함께했던 비밀 친구 ‘곰돌이 푸와 일행’들이 다시 찾아오게 되고 뜻하지 않게 놀라운 모험 속에 빠져들게 되는데…'}},\n",
       " {'_index': 'movie_index',\n",
       "  '_id': '7',\n",
       "  '_source': {'title': '연인',\n",
       "   'story': '가난한 10대 프랑스 소녀, 부유한 남자를 허락하고 처음으로 육체적 쾌락을 경험하게 된다. 불우한 가정 환경과 자신에 대한 혐오가 더해 갈수록 소녀는 욕망에 빠져들고 격정적인 관능에 몰입한다. 욕정일 뿐 사랑이 아니라고 부정하지만 평생 잊을 수 없는 운명으로 남게 되는데…. 욕망으로 남기에는 아름다운 세기의 로맨스, 마르그리뜨 뒤라스 소설 <연인>이 스크린으로 다시 돌아온다!'}},\n",
       " {'_index': 'movie_index',\n",
       "  '_id': '8',\n",
       "  '_source': {'title': '짱구는 못말려 극장판: 정면승부! 로봇아빠의 역습',\n",
       "   'story': '어느 날, 로봇이 되어 돌아온 짱구 아빠! 짱구는 그 동안 영화에서만 봤던 슈퍼히어로가 되어 특별한 능력을 보여주는 로봇 아빠가 자랑스럽다. 그러나 갑자기 무시무시한 모습으로 변하는 로봇 아빠와 함께 떡잎마을을 무너뜨리려는 거대한 음모가 드러나는데… 과연, 로봇 아빠와 짱구 가족은 마을의 평화를 지켜낼 수 있을까?'}},\n",
       " {'_index': 'movie_index',\n",
       "  '_id': '9',\n",
       "  '_source': {'title': '그날 본 꽃의 이름을 우리는 아직 모른다',\n",
       "   'story': '어린 시절 단짝 친구들인 ‘초평화 버스터즈’ 6인방. 감춰 두었던 첫사랑을 수줍게 고백한 어느 여름날, ‘멘마’가 갑작스레 모두의 곁을 떠난다. 이후 각자 상처와 짐을 안은 채 뿔뿔이 흩어진 친구들. 그리고 5년 후, 팀의 리더였던 ‘진땅’의 앞에 ‘멘마’가 나타난다. 모두와 함께 소원을 이루고 싶다는 그녀. ‘진땅’은 그녀가 진심으로 바라는 소원을 찾기 위해 멀어졌던 친구들을 다시 찾게 된다. 무심코 준 상처, 전하지 못한 진심. 내일 말하면 된다고 생각하다가 모든 것을 놓쳐버린 그들에게 다시 찾아 온 기회. 친구들 사이에 멈춰있던 시간이 다시 흐르기 시작한다. 과연 이들은 ‘멘마’의 소원을 이루고 한여름의 첫사랑을 되돌릴 수 있을까?'}}]"
      ]
     },
     "execution_count": 10,
     "metadata": {},
     "output_type": "execute_result"
    }
   ],
   "source": [
    "movies = [\n",
    "    {\n",
    "        \"_index\": INDEX_NAME,\n",
    "        \"_id\" : doc['id'],\n",
    "        \"_source\": {\n",
    "            \"title\": doc['title'],\n",
    "            \"story\": doc['story'],\n",
    "        }\n",
    "    }\n",
    "    for doc in myresult\n",
    "]\n",
    "\n",
    "movies[:10]"
   ]
  },
  {
   "cell_type": "code",
   "execution_count": 11,
   "metadata": {},
   "outputs": [
    {
     "name": "stdout",
     "output_type": "stream",
     "text": [
      "\n",
      "RESPONSE: (403, [])\n"
     ]
    }
   ],
   "source": [
    "try:\n",
    "    response = helpers.bulk(es, movies)\n",
    "    print (\"\\nRESPONSE:\", response)\n",
    "except Exception as e:\n",
    "    print(\"\\nERROR:\", e)"
   ]
  },
  {
   "cell_type": "code",
   "execution_count": 12,
   "metadata": {},
   "outputs": [
    {
     "name": "stdout",
     "output_type": "stream",
     "text": [
      "{'_id': '1',\n",
      " '_index': 'movie_index',\n",
      " '_primary_term': 1,\n",
      " '_seq_no': 1,\n",
      " '_source': {'story': '평생을 성실하게 목수로 살아가던 다니엘은 지병인 심장병이 악화되어 일을 계속 해나갈 수 없는 상황이 '\n",
      "                      '된다. 다니엘은 실업급여를 받기 위해 찾아간 관공서에서 복잡하고 관료적인 절차 때문에 번번히 '\n",
      "                      '좌절한다. 그러던 어느 날 다니엘은 두 아이와 함께 런던에서 이주한 싱글맘 케이티를 만나 도움을 '\n",
      "                      '주게되고, 서로를 의지하게 되는데...',\n",
      "             'title': '나, 다니엘 블레이크'},\n",
      " '_type': '_doc',\n",
      " '_version': 1,\n",
      " 'found': True}\n"
     ]
    }
   ],
   "source": [
    "doc = es.get(index=INDEX_NAME, id=1)\n",
    "pprint.pprint(doc)"
   ]
  },
  {
   "cell_type": "markdown",
   "metadata": {},
   "source": [
    "## 4. ElasticSearch에서 검색후, 검색결과를 MySQL에서 재 검색"
   ]
  },
  {
   "cell_type": "code",
   "execution_count": 13,
   "metadata": {},
   "outputs": [
    {
     "name": "stdout",
     "output_type": "stream",
     "text": [
      "Doc ID: '67'  Score: 11.31\n",
      "Title: 존 윅 - 리로드\n",
      "줄거리: 업계 최고의 레전드 킬러 ‘존 윅’은 과거를 뒤로한 채 은퇴를 선언하지만, 과거 자신의 목숨을 구했던 옛 동료와 피로 맺은 암살자들의 룰에 의해 로마로 향한다. ‘국제 암살자 연합’을 탈취하려는 옛 동료의 계획으로 ‘존 윅’은 함정에 빠지게 되고, 전세계 암살자들의 총구는 그를 향하는데...\n",
      "Doc ID: '54'  Score:  6.70\n",
      "Title: 헌터 킬러\n",
      "줄거리: 미 국방부는 격침당한 잠수함의 행방을 찾기 위해 ‘헌터 킬러’를 극비리에 투입시키고 캡틴 ‘글래스’(제라드 버틀러)는 배후에 숨겨진 음모가 있음을 알게 된다. 한편, 지상에서는 VIP가 납치되어 전세계는 초긴장 상태에 놓이게 되는데… 일촉즉발 위기상황, VIP를 구출하라! 단 한 척의 공격 잠수함 ‘헌터 킬러’와 최정예 특수부대 네이비 씰의 숨막히는 육해공 합동 작전이 펼쳐진다!\n",
      "Doc ID: '165'  Score:  6.28\n",
      "Title: 안나\n",
      "줄거리: 파리의 톱모델로 위장한 강력한 킬러 ‘안나’(사샤 루스)가 살아남기 위해 모든 위협을 제거해나가는 하드코어 킬링 액션\n",
      "Doc ID: '42'  Score:  6.06\n",
      "Title: 레옹\n",
      "줄거리: 한 손엔 우유 2팩이 든 가방, 다른 한 손엔 화분을 들고 뿌리 없이 떠도는 킬러 레옹은 어느 날 옆집 소녀 마틸다의 일가족이 몰살 당하는 것을 목격한다. 그 사이 심부름을 갔다 돌아 온 마틸다는 가족들이 처참히 몰살 당하자 레옹에게 도움을 청한다. 가족의 원수를 갚기 위해 킬러가 되기로 결심한 12세 소녀 마틸다는 레옹에게 글을 알려주는 대신 복수하는 법을 배우게 된다. 드디어 그녀는 가족을 죽인 사람이 부패 마약 경찰 스탠스임을 알게 되고, 그의 숙소로 향하게 되는데…\n",
      "Doc ID: '181'  Score:  5.31\n",
      "Title: 수상한 그녀\n",
      "줄거리: 아들 자랑이 유일한 낙인 욕쟁이 칠순 할매 오말순(나문희分)은 어느 날, 가족들이 자신을 요양원으로 독립(?)시키려 한다는 청천벽력 같은 사실을 알게 된다. 뒤숭숭한 마음을 안고 밤길을 방황하던 할매 말순은 오묘한 불빛에 이끌려 ‘청춘 사진관’으로 들어간다. 난생 처음 곱게 꽃단장을 하고 영정사진을 찍고 나오는 길, 그녀는 버스 차창 밖에 비친 자신의 얼굴을 보고 경악을 금치 못한다. 오드리 헵번처럼 뽀얀 피부, 날렵한 몸매... 주름진 할매에서 탱탱한 꽃처녀의 몸으로 돌아간 것! 아무도 알아보지 못하는 자신의 젊은 모습에 그녀는 스무살 ‘오두리’가 되어 빛나는 전성기를 즐겨 보기로 마음 먹는데... 2014년 새해, 대한민국에 웃음 보따리를 안겨줄 <수상한 그녀>가 온다!\n",
      "Doc ID: '201'  Score:  5.31\n",
      "Title: 달콤한 인생\n",
      "줄거리:  어느 맑은 봄날, 바람에 이리저리 휘날리는 나뭇가지를 바라보며, 제자가 물었다. “스승님, 저것은 나뭇가지가 움직이는 겁니까, 바람이 움직이는 겁니까?” 스승은 제자가 가리키는 것은 보지도 않은 채, 웃으며 말했다. 무릇 움직이는 것은 나뭇가지도 아니고 바람도 아니며, 네 마음 뿐이다. 서울 하늘 한 켠, 섬처럼 떠 있는 한 호텔의 스카이라운지. 그 곳은 냉철하고 명민한 완벽주의자 선우의 작은 성이다. '왜'라고 묻지 않는 과묵한 의리, 빈틈 없는 일 처리로 보스 강사장의 절대적 신뢰를 획득, 스카이라운지의 경영을 책임지기까지, 그는 꼬박 7년의 세월을 바쳤다. 룰을 어긴 자는 이유를 막론하고 처단하는 냉혹한 보스 강사장. 그런 그에게는 남들에게 말 못 할 비밀이 하나 있다. 젊은 애인 희수의 존재가 바로 그것. 그녀에게 딴 남자가 생긴 것 같다는 의혹을 가진 강사장은 선우에게 그녀를 감시, 사실이면 처리하라고 명령한다. 희수를 따라 다니기 시작한 지 3일째, 희수와 남자 친구가 함께 있는 현장을 급습하는 선우. 하지만, 마지막 순간, 그는 알 수 없는 망설임 끝에 그들을 놓아준다. 그것이 모두를 위한 최선의 선택이라 믿으며 말이다. 그러나 단 한 순간에 불과했던 이 선택으로 인해 선우는 어느 새 적이 되어 버린 조직 전체를 상대로, 돌이킬 수 없는 전쟁을 시작하게 되는데... 어느 깊은 가을밤, 잠에서 깨어난 제자가 울고 있었다. 그 모습을 본 스승이 기이하게 여겨 제자에게 물었다. “무서운 꿈을 꾸었느냐?” “아닙니다.” “슬픈 꿈을 꾸었느냐?” “아닙니다. 달콤한 꿈을 꾸었습니다.” “그런데 왜 그리 슬피 우느냐?” 제자는 흐르는 눈물을 닦아내며 나지막히 말했다. “그 꿈은 이루어질 수 없기 때문입니다.” \n",
      "Doc ID: '301'  Score:  5.21\n",
      "Title: 블레이드 러너\n",
      "줄거리: 핵전쟁 이후 혼돈으로 무질서로 휩싸인 2019년, 복제인간 ‘로이’를 포함한 ‘넥서스 6’이 오프월드에서 반란을 일으킨 후 지구로 잠입한다. 은퇴한 블레이드 러너였던 '데커드'(해리슨 포드)는 지구에 잠입한 복제 인간들을 찾는 임무와 함께 강제로 복직하게 되고, 탐문 수사를 위해 찾아간 넥서스 6 제조사인 타이렐 사에서 자신이 복제 인간임을 모르는 ‘레이첼’(숀 영)을 마주하게 된다. 한편, 증거의 꼬리를 잡아 수사하던 도중 ‘데커드’는 ‘레이첼’ 덕분에 위기 속에서 목숨을 구원받게 되고, 복제 인간과의 마지막 전투를 앞두게 된다.\n",
      "Doc ID: '182'  Score:  4.94\n",
      "Title: 어카운턴트\n",
      "줄거리: 자폐아로 오해 받았지만 아인슈타인, 피카소, 모차르트와 비견될 정도로 숫자에 대한 탁월한 능력을 지닌 크리스찬(벤 애플렉). 수학천재인 그는 자신의 재능을 살려 마약 조직의 검은 돈을 봐주는 회계사로 살아간다. 그러던 중 그가 비밀리에 행했던 일로 인해 조직과 국가의 동시에 표적이 되고, 이제 그는 낮에는 회계사, 밤에는 킬러였던 자신의 본색을 드러내며 동시에 그들과 맞서는데…\n",
      "Doc ID: '249'  Score:  4.77\n",
      "Title: 위대한 독재자\n",
      "줄거리: 세계대전에서 패배한 토매니아국에 힌켈이라는 독재자가 나타나 악명을 떨친다. 한편, 힌켈과 닮은꼴 외모의 이발사 찰리는 국가의 유태인 탄압정책으로 인해 곤경에 처하지만 병사로 참전했던 전쟁에서 우연히 구해줬던 슐츠 장교의 도움을 받아 위기를 모면한다. 독재자 힌켈의 악행은 갈수록 도를 더해가고, 찰리는 유태인 수용소에 끌려가게 되지만 기지를 부려 탈옥에 성공한다. 하지만 이발사와 똑같은 얼굴을 한 힌켈이 탈옥범으로 오해 받아 감옥에 잡혀 들어가게 되는데…\n",
      "Doc ID: '27'  Score:  4.74\n",
      "Title: 럭키\n",
      "줄거리: 냉혹한 킬러 형욱(유해진)은 사건 처리 후 우연히 들른 목욕탕에서 비누를 밟고 넘어져 과거의 기억을 잃게 된다. 인기도, 삶의 의욕도 없어 죽기로 결심한 무명배우 재성(이준)은 신변 정리를 위해 들른 목욕탕에서 그런 형욱을 보게 되고, 자신과 그의 목욕탕 키를 바꿔 도망친다. 이후 형욱은 자신이 재성이라고 생각한 채, 배우로 성공하기 위해 노력하는데… 인생에 단 한번 찾아온 초대형 기회! 초특급 반전! 이것이 LUCK.KEY다!\n"
     ]
    }
   ],
   "source": [
    "query=\"은퇴한 킬러\"\n",
    "res = es.search(index=INDEX_NAME, q=query)\n",
    "for hit in res['hits']['hits']:\n",
    "    print(\"Doc ID: %3r  Score: %5.2f\" % (hit['_id'], hit['_score']))\n",
    "    print(\"Title: {}\".format(hit['_source']['title']))\n",
    "    print(\"줄거리: {}\".format(hit['_source']['story']))\n"
   ]
  },
  {
   "cell_type": "code",
   "execution_count": 14,
   "metadata": {},
   "outputs": [],
   "source": [
    "movie_id = res['hits']['hits'][0][\"_id\"]"
   ]
  },
  {
   "cell_type": "code",
   "execution_count": 15,
   "metadata": {},
   "outputs": [
    {
     "name": "stdout",
     "output_type": "stream",
     "text": [
      "{'id': '67', 'story': '업계 최고의 레전드 킬러 ‘존 윅’은 과거를 뒤로한 채 은퇴를 선언하지만, 과거 자신의 목숨을 구했던 옛 동료와 피로 맺은 암살자들의 룰에 의해 로마로 향한다. ‘국제 암살자 연합’을 탈취하려는 옛 동료의 계획으로 ‘존 윅’은 함정에 빠지게 되고, 전세계 암살자들의 총구는 그를 향하는데...', 'title': '존 윅 - 리로드', 'link': 'https://movie.naver.com/movie/bi/mi/basic.nhn?code=143932', 'image': 'https://movie-phinf.pstatic.net/20200807_193/1596789703698oLgpX_JPEG/movie_image.jpg?type=f67'}\n"
     ]
    }
   ],
   "source": [
    "sql = \"SELECT * FROM movie WHERE id = {}\".format(movie_id)\n",
    "mycursor = mydb.cursor(dictionary=True)\n",
    "mycursor.execute(sql)\n",
    "\n",
    "\n",
    "myresult = mycursor.fetchall()\n",
    "for x in myresult:\n",
    "    print(x)"
   ]
  },
  {
   "cell_type": "code",
   "execution_count": null,
   "metadata": {},
   "outputs": [],
   "source": [
    "#쿼리---> 엘라스틱서치 --> MySQL"
   ]
  }
 ],
 "metadata": {
  "kernelspec": {
   "display_name": "Python 3",
   "language": "python",
   "name": "python3"
  },
  "language_info": {
   "codemirror_mode": {
    "name": "ipython",
    "version": 3
   },
   "file_extension": ".py",
   "mimetype": "text/x-python",
   "name": "python",
   "nbconvert_exporter": "python",
   "pygments_lexer": "ipython3",
   "version": "3.7.7"
  }
 },
 "nbformat": 4,
 "nbformat_minor": 4
}
