{
 "cells": [
  {
   "cell_type": "markdown",
   "metadata": {},
   "source": [
    "# MySQL\n",
    "데이터를 데이터베이스에 저장한 뒤에, SQL 쿼리를 활용해 출력을 해보겠습니다.\n",
    "____"
   ]
  },
  {
   "cell_type": "markdown",
   "metadata": {},
   "source": [
    "## 1. 데이터 불러오기"
   ]
  },
  {
   "cell_type": "code",
   "execution_count": null,
   "metadata": {},
   "outputs": [],
   "source": [
    "import pandas as pd\n",
    "df = pd.read_csv(\"movie_doc.csv\",sep=\"\\t\")\n",
    "df.head()"
   ]
  },
  {
   "cell_type": "markdown",
   "metadata": {},
   "source": [
    "## 2. MySQL을 활용한 데이터 저장"
   ]
  },
  {
   "cell_type": "code",
   "execution_count": null,
   "metadata": {},
   "outputs": [],
   "source": [
    "import mysql.connector"
   ]
  },
  {
   "cell_type": "markdown",
   "metadata": {},
   "source": [
    "### 2-1. Database 생성"
   ]
  },
  {
   "cell_type": "code",
   "execution_count": null,
   "metadata": {},
   "outputs": [],
   "source": [
    "\n",
    "HOST = \"localhost\"\n",
    "USER = \"root\"\n",
    "PASSWORD = \"123456789\"\n",
    "mydb = mysql.connector.connect(\n",
    "  host=HOST,\n",
    "  user=USER,\n",
    "  password=PASSWORD\n",
    ")\n",
    "\n",
    "mycursor = mydb.cursor()\n",
    "\n",
    "# mycursor.execute(\"DROP DATABASE movie_db\")\n",
    "try:\n",
    "    mycursor.execute(\"CREATE DATABASE movie_db default character set utf8 collate utf8_general_ci;\")\n",
    "except:\n",
    "    pass"
   ]
  },
  {
   "cell_type": "markdown",
   "metadata": {},
   "source": [
    "### 2-2. Table 생성"
   ]
  },
  {
   "cell_type": "code",
   "execution_count": null,
   "metadata": {},
   "outputs": [],
   "source": [
    "mydb = mysql.connector.connect(\n",
    "  host=HOST,\n",
    "  user=USER,\n",
    "  password=PASSWORD,\n",
    "  database=\"movie_db\"\n",
    ")\n",
    "\n",
    "mycursor = mydb.cursor()\n",
    "try:\n",
    "    mycursor.execute(\"DROP TABLE movie;\")\n",
    "except:\n",
    "    pass\n",
    "mycursor.execute(\"\"\"\n",
    "                    CREATE TABLE movie \n",
    "                    (id VARCHAR(255) UNIQUE, story TEXT, title VARCHAR(255), link VARCHAR(255), image VARCHAR(255))\"\"\"\n",
    "                )\n"
   ]
  },
  {
   "cell_type": "code",
   "execution_count": null,
   "metadata": {},
   "outputs": [],
   "source": [
    "for row_dict in df.to_dict(orient=\"records\"):\n",
    "    print(row_dict)\n",
    "    break"
   ]
  },
  {
   "cell_type": "markdown",
   "metadata": {},
   "source": [
    "### 2-3. Row 삽입"
   ]
  },
  {
   "cell_type": "code",
   "execution_count": null,
   "metadata": {},
   "outputs": [],
   "source": [
    "for row_dict in df.to_dict(orient=\"records\"):\n",
    "    print(row_dict)\n",
    "    movie_id = str(row_dict['id'])\n",
    "    title = row_dict['title']\n",
    "    story = row_dict['story']\n",
    "    link = row_dict['link']\n",
    "    image = row_dict['image']\n",
    "\n",
    "    sql = \"INSERT INTO movie (id, story, title, link, image) VALUES (%s, %s, %s, %s, %s)\"\n",
    "    val = (movie_id, story, title, link, image)\n",
    "    mycursor.execute(sql, val)\n",
    "\n",
    "mydb.commit()\n",
    "\n"
   ]
  },
  {
   "cell_type": "markdown",
   "metadata": {},
   "source": [
    "### 2-4. 삽입된 Row 출력"
   ]
  },
  {
   "cell_type": "code",
   "execution_count": null,
   "metadata": {},
   "outputs": [],
   "source": [
    "sql = \"SELECT * FROM movie\"\n",
    "mycursor = mydb.cursor(dictionary=True)\n",
    "mycursor.execute(sql)\n",
    "\n",
    "\n",
    "myresult = mycursor.fetchall()\n",
    "for x in myresult:\n",
    "    print(x)"
   ]
  },
  {
   "cell_type": "code",
   "execution_count": null,
   "metadata": {},
   "outputs": [],
   "source": [
    "keyword = \"암살\"\n",
    "sql = \"SELECT * FROM movie WHERE story LIKE '%{}%'\".format(keyword)\n",
    "\n",
    "mycursor = mydb.cursor(dictionary=True)\n",
    "mycursor.execute(sql)\n",
    "\n",
    "\n",
    "myresult = mycursor.fetchall()\n",
    "for x in myresult:\n",
    "    print(x)"
   ]
  },
  {
   "cell_type": "markdown",
   "metadata": {},
   "source": [
    "### Q.여러키워드를 포함시키려면?"
   ]
  },
  {
   "cell_type": "code",
   "execution_count": null,
   "metadata": {},
   "outputs": [],
   "source": [
    "#TODO"
   ]
  },
  {
   "cell_type": "markdown",
   "metadata": {},
   "source": [
    "## 5. Connection 끊어주기"
   ]
  },
  {
   "cell_type": "code",
   "execution_count": null,
   "metadata": {},
   "outputs": [],
   "source": [
    "mycursor.close()\n",
    "mydb.close()"
   ]
  },
  {
   "cell_type": "code",
   "execution_count": null,
   "metadata": {},
   "outputs": [],
   "source": []
  }
 ],
 "metadata": {
  "kernelspec": {
   "display_name": "Python 3",
   "language": "python",
   "name": "python3"
  },
  "language_info": {
   "codemirror_mode": {
    "name": "ipython",
    "version": 3
   },
   "file_extension": ".py",
   "mimetype": "text/x-python",
   "name": "python",
   "nbconvert_exporter": "python",
   "pygments_lexer": "ipython3",
   "version": "3.7.6"
  }
 },
 "nbformat": 4,
 "nbformat_minor": 4
}
