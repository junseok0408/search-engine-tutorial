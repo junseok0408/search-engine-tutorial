{
 "cells": [
  {
   "cell_type": "markdown",
   "metadata": {},
   "source": [
    "# MySQL\n",
    "데이터를 데이터베이스에 저장한 뒤에, SQL 쿼리를 활용해 출력을 해보겠습니다.\n",
    "____"
   ]
  },
  {
   "cell_type": "markdown",
   "metadata": {},
   "source": [
    "## 1. 데이터 불러오기"
   ]
  },
  {
   "cell_type": "code",
   "execution_count": 2,
   "metadata": {},
   "outputs": [
    {
     "data": {
      "text/html": [
       "<div>\n",
       "<style scoped>\n",
       "    .dataframe tbody tr th:only-of-type {\n",
       "        vertical-align: middle;\n",
       "    }\n",
       "\n",
       "    .dataframe tbody tr th {\n",
       "        vertical-align: top;\n",
       "    }\n",
       "\n",
       "    .dataframe thead th {\n",
       "        text-align: right;\n",
       "    }\n",
       "</style>\n",
       "<table border=\"1\" class=\"dataframe\">\n",
       "  <thead>\n",
       "    <tr style=\"text-align: right;\">\n",
       "      <th></th>\n",
       "      <th>id</th>\n",
       "      <th>title</th>\n",
       "      <th>story</th>\n",
       "      <th>gender</th>\n",
       "      <th>link</th>\n",
       "      <th>image</th>\n",
       "    </tr>\n",
       "  </thead>\n",
       "  <tbody>\n",
       "    <tr>\n",
       "      <th>0</th>\n",
       "      <td>0</td>\n",
       "      <td>인비저블 게스트</td>\n",
       "      <td>의문의 습격으로 살해 당한 ‘로라’ ‘아드리안’은 연인의 죽음에 절망하고, 범인은 ...</td>\n",
       "      <td>N</td>\n",
       "      <td>https://movie.naver.com/movie/bi/mi/basic.nhn?...</td>\n",
       "      <td>https://movie-phinf.pstatic.net/20170828_179/1...</td>\n",
       "    </tr>\n",
       "    <tr>\n",
       "      <th>1</th>\n",
       "      <td>1</td>\n",
       "      <td>나, 다니엘 블레이크</td>\n",
       "      <td>평생을 성실하게 목수로 살아가던 다니엘은 지병인 심장병이 악화되어 일을 계속 해나갈...</td>\n",
       "      <td>F</td>\n",
       "      <td>https://movie.naver.com/movie/bi/mi/basic.nhn?...</td>\n",
       "      <td>https://movie-phinf.pstatic.net/20161117_246/1...</td>\n",
       "    </tr>\n",
       "    <tr>\n",
       "      <th>2</th>\n",
       "      <td>2</td>\n",
       "      <td>국가부도의 날</td>\n",
       "      <td>1997년, 대한민국 최고의 경제 호황을 믿어 의심치 않았던 그때, 곧 엄청난 경제...</td>\n",
       "      <td>M</td>\n",
       "      <td>https://movie.naver.com/movie/bi/mi/basic.nhn?...</td>\n",
       "      <td>https://movie-phinf.pstatic.net/20181105_232/1...</td>\n",
       "    </tr>\n",
       "    <tr>\n",
       "      <th>3</th>\n",
       "      <td>3</td>\n",
       "      <td>당갈</td>\n",
       "      <td>전직 레슬링 선수였던 ‘마하비르 싱 포갓(아미르 칸)’은 아버지의 반대로 금메달의 ...</td>\n",
       "      <td>F</td>\n",
       "      <td>https://movie.naver.com/movie/bi/mi/basic.nhn?...</td>\n",
       "      <td>https://movie-phinf.pstatic.net/20180329_2/152...</td>\n",
       "    </tr>\n",
       "    <tr>\n",
       "      <th>4</th>\n",
       "      <td>4</td>\n",
       "      <td>스파이더맨: 파 프롬 홈</td>\n",
       "      <td>‘엔드게임’ 이후 변화된 세상, 스파이더맨 ‘피터 파커’는 학교 친구들과 유럽 여행...</td>\n",
       "      <td>M</td>\n",
       "      <td>https://movie.naver.com/movie/bi/mi/basic.nhn?...</td>\n",
       "      <td>https://movie-phinf.pstatic.net/20190527_181/1...</td>\n",
       "    </tr>\n",
       "  </tbody>\n",
       "</table>\n",
       "</div>"
      ],
      "text/plain": [
       "   id          title                                              story  \\\n",
       "0   0       인비저블 게스트  의문의 습격으로 살해 당한 ‘로라’ ‘아드리안’은 연인의 죽음에 절망하고, 범인은 ...   \n",
       "1   1    나, 다니엘 블레이크  평생을 성실하게 목수로 살아가던 다니엘은 지병인 심장병이 악화되어 일을 계속 해나갈...   \n",
       "2   2        국가부도의 날  1997년, 대한민국 최고의 경제 호황을 믿어 의심치 않았던 그때, 곧 엄청난 경제...   \n",
       "3   3             당갈  전직 레슬링 선수였던 ‘마하비르 싱 포갓(아미르 칸)’은 아버지의 반대로 금메달의 ...   \n",
       "4   4  스파이더맨: 파 프롬 홈  ‘엔드게임’ 이후 변화된 세상, 스파이더맨 ‘피터 파커’는 학교 친구들과 유럽 여행...   \n",
       "\n",
       "  gender                                               link  \\\n",
       "0      N  https://movie.naver.com/movie/bi/mi/basic.nhn?...   \n",
       "1      F  https://movie.naver.com/movie/bi/mi/basic.nhn?...   \n",
       "2      M  https://movie.naver.com/movie/bi/mi/basic.nhn?...   \n",
       "3      F  https://movie.naver.com/movie/bi/mi/basic.nhn?...   \n",
       "4      M  https://movie.naver.com/movie/bi/mi/basic.nhn?...   \n",
       "\n",
       "                                               image  \n",
       "0  https://movie-phinf.pstatic.net/20170828_179/1...  \n",
       "1  https://movie-phinf.pstatic.net/20161117_246/1...  \n",
       "2  https://movie-phinf.pstatic.net/20181105_232/1...  \n",
       "3  https://movie-phinf.pstatic.net/20180329_2/152...  \n",
       "4  https://movie-phinf.pstatic.net/20190527_181/1...  "
      ]
     },
     "execution_count": 2,
     "metadata": {},
     "output_type": "execute_result"
    }
   ],
   "source": [
    "import pandas as pd\n",
    "df = pd.read_csv(\"movie_doc.csv\",sep=\"\\t\")\n",
    "df.head()"
   ]
  },
  {
   "cell_type": "markdown",
   "metadata": {},
   "source": [
    "## 2. MySQL을 활용한 데이터 저장"
   ]
  },
  {
   "cell_type": "code",
   "execution_count": null,
   "metadata": {},
   "outputs": [],
   "source": [
    "import mysql.connector"
   ]
  },
  {
   "cell_type": "markdown",
   "metadata": {},
   "source": [
    "### 2-1. Database 생성"
   ]
  },
  {
   "cell_type": "code",
   "execution_count": null,
   "metadata": {},
   "outputs": [],
   "source": [
    "\n",
    "HOST = \"localhost\"\n",
    "USER = \"root\"\n",
    "PASSWORD = \"123456789\"\n",
    "mydb = mysql.connector.connect(\n",
    "  host=HOST,\n",
    "  user=USER,\n",
    "  password=PASSWORD\n",
    ")\n",
    "\n",
    "mycursor = mydb.cursor()\n",
    "\n",
    "#mycursor.execute(\"DROP DATABASE movie_db\")\n",
    "try:\n",
    "    mycursor.execute(\"CREATE DATABASE movie_db default character set utf8 collate utf8_general_ci;\")\n",
    "except:\n",
    "    pass"
   ]
  },
  {
   "cell_type": "markdown",
   "metadata": {},
   "source": [
    "### 2-2. Table 생성"
   ]
  },
  {
   "cell_type": "code",
   "execution_count": null,
   "metadata": {},
   "outputs": [],
   "source": [
    "mydb = mysql.connector.connect(\n",
    "  host=HOST,\n",
    "  user=USER,\n",
    "  password=PASSWORD,\n",
    "  database=\"movie_db\"\n",
    ")\n",
    "\n",
    "mycursor = mydb.cursor()\n",
    "try:\n",
    "    mycursor.execute(\"DROP TABLE movie;\")\n",
    "except:\n",
    "    pass\n",
    "mycursor.execute(\"\"\"\n",
    "                    CREATE TABLE movie \n",
    "                    (id VARCHAR(255) UNIQUE, story TEXT, title VARCHAR(255), link VARCHAR(255), image VARCHAR(255))\"\"\"\n",
    "                )\n"
   ]
  },
  {
   "cell_type": "code",
   "execution_count": null,
   "metadata": {},
   "outputs": [],
   "source": [
    "for row_dict in df.to_dict(orient=\"records\"):\n",
    "    print(row_dict)\n",
    "    break"
   ]
  },
  {
   "cell_type": "markdown",
   "metadata": {},
   "source": [
    "### 2-3. Row 삽입"
   ]
  },
  {
   "cell_type": "code",
   "execution_count": null,
   "metadata": {},
   "outputs": [],
   "source": [
    "for row_dict in df.to_dict(orient=\"records\"):\n",
    "    print(row_dict)\n",
    "    movie_id = str(row_dict['id'])\n",
    "    title = row_dict['title']\n",
    "    story = row_dict['story']\n",
    "    link = row_dict['link']\n",
    "    image = row_dict['image']\n",
    "\n",
    "    sql = \"INSERT INTO movie (id, story, title, link, image) VALUES (%s, %s, %s, %s, %s)\"\n",
    "    val = (movie_id, story, title, link, image)\n",
    "    mycursor.execute(sql, val)\n",
    "\n",
    "mydb.commit()\n",
    "\n"
   ]
  },
  {
   "cell_type": "markdown",
   "metadata": {},
   "source": [
    "### 2-4. 삽입된 Row 출력"
   ]
  },
  {
   "cell_type": "code",
   "execution_count": null,
   "metadata": {},
   "outputs": [],
   "source": [
    "sql = \"SELECT * FROM movie\"\n",
    "mycursor = mydb.cursor(dictionary=True)\n",
    "mycursor.execute(sql)\n",
    "\n",
    "\n",
    "myresult = mycursor.fetchall()\n",
    "for x in myresult:\n",
    "    print(x)"
   ]
  },
  {
   "cell_type": "code",
   "execution_count": null,
   "metadata": {},
   "outputs": [],
   "source": [
    "keyword = \"암살\"\n",
    "sql = \"SELECT * FROM movie WHERE story LIKE '%{}%'\".format(keyword)\n",
    "\n",
    "mycursor = mydb.cursor(dictionary=True)\n",
    "mycursor.execute(sql)\n",
    "\n",
    "\n",
    "myresult = mycursor.fetchall()\n",
    "for x in myresult:\n",
    "    print(x)"
   ]
  },
  {
   "cell_type": "markdown",
   "metadata": {},
   "source": [
    "### Q.여러키워드를 포함시키려면?"
   ]
  },
  {
   "cell_type": "code",
   "execution_count": null,
   "metadata": {},
   "outputs": [],
   "source": [
    "#TODO"
   ]
  },
  {
   "cell_type": "markdown",
   "metadata": {},
   "source": [
    "## 5. Connection 끊어주기"
   ]
  },
  {
   "cell_type": "code",
   "execution_count": null,
   "metadata": {},
   "outputs": [],
   "source": [
    "mycursor.close()\n",
    "mydb.close()"
   ]
  },
  {
   "cell_type": "code",
   "execution_count": null,
   "metadata": {},
   "outputs": [],
   "source": []
  }
 ],
 "metadata": {
  "kernelspec": {
   "display_name": "Python 3",
   "language": "python",
   "name": "python3"
  },
  "language_info": {
   "codemirror_mode": {
    "name": "ipython",
    "version": 3
   },
   "file_extension": ".py",
   "mimetype": "text/x-python",
   "name": "python",
   "nbconvert_exporter": "python",
   "pygments_lexer": "ipython3",
   "version": "3.7.6"
  }
 },
 "nbformat": 4,
 "nbformat_minor": 4
}
